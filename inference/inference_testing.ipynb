{
 "cells": [
  {
   "cell_type": "code",
   "execution_count": 56,
   "metadata": {},
   "outputs": [],
   "source": [
    "import logging\n",
    "from PIL import Image\n",
    "from glob import glob\n",
    "import numpy as np\n",
    "import torch\n",
    "from torch.utils.data import Dataset\n",
    "import torchvision.transforms.functional as TF\n",
    "from torchvision import transforms\n",
    "import random\n",
    "import os\n",
    "from pathlib import Path\n",
    "import xarray as xr\n",
    "import rioxarray as rioxr"
   ]
  },
  {
   "cell_type": "code",
   "execution_count": 3,
   "metadata": {},
   "outputs": [],
   "source": [
    "data_dir = Path(\"/Users/gordonlogie/Documents/Projects/Neural_Earth/SOW_2/data/xview_building_damage/geotiffs/hold\")\n",
    "img_dir = Path(data_dir).joinpath(\"images\")"
   ]
  },
  {
   "cell_type": "code",
   "execution_count": 22,
   "metadata": {},
   "outputs": [],
   "source": [
    "img_suffix_list = list(img_dir.glob('*_post_disaster.tif'))\n",
    "img_suffix_list = [img_suffix.name.split('_post_disaster.tif')[0]  for img_suffix in img_suffix_list]"
   ]
  },
  {
   "cell_type": "code",
   "execution_count": 89,
   "metadata": {},
   "outputs": [
    {
     "name": "stderr",
     "output_type": "stream",
     "text": [
      "/usr/local/Caskroom/miniforge/base/envs/ms-building-damage/lib/python3.7/site-packages/ipykernel_launcher.py:5: DeprecationWarning: open_rasterio is Deprecated in favor of rioxarray. For information about transitioning, see: https://corteva.github.io/rioxarray/stable/getting_started/getting_started.html\n",
      "  \"\"\"\n",
      "/usr/local/Caskroom/miniforge/base/envs/ms-building-damage/lib/python3.7/site-packages/ipykernel_launcher.py:6: DeprecationWarning: open_rasterio is Deprecated in favor of rioxarray. For information about transitioning, see: https://corteva.github.io/rioxarray/stable/getting_started/getting_started.html\n",
      "  \n"
     ]
    }
   ],
   "source": [
    "select_index = 0\n",
    "\n",
    "img_suffix = img_suffix_list[select_index]\n",
    "\n",
    "pre_img = xr.open_rasterio(img_dir.joinpath(f\"{img_suffix}_pre_disaster.tif\")) / 255.0\n",
    "post_img = xr.open_rasterio(img_dir.joinpath(f\"{img_suffix}_post_disaster.tif\")) / 255.0"
   ]
  },
  {
   "cell_type": "code",
   "execution_count": 98,
   "metadata": {},
   "outputs": [],
   "source": [
    "def process_image(img, normalize=True):\n",
    "\n",
    "    img_mean = img.mean(dim=[\"x\", \"y\"]).values.tolist()\n",
    "    img_std = img.std(dim=[\"x\", \"y\"]).values.tolist()\n",
    "\n",
    "    if normalize:\n",
    "        norm_func = transforms.Compose([\n",
    "            transforms.ToTensor(),\n",
    "            transforms.Normalize(mean=img_mean, std=img_std)\n",
    "        ])\n",
    "    else:\n",
    "        norm_func = transforms.ToTensor()\n",
    "\n",
    "    img_arr = np.transpose(np.array(img), (1, 2, 0)).astype(dtype='float64')\n",
    "    img_norm = norm_func(img_arr)\n",
    "\n",
    "    return img_norm\n",
    "\n",
    "pre_img_norm = process_image(pre_img)\n",
    "post_img_norm = process_image(post_img)"
   ]
  },
  {
   "cell_type": "code",
   "execution_count": 110,
   "metadata": {},
   "outputs": [
    {
     "data": {
      "text/plain": [
       "'hurricane-harvey_00000306'"
      ]
     },
     "execution_count": 110,
     "metadata": {},
     "output_type": "execute_result"
    }
   ],
   "source": [
    "img_suffix"
   ]
  },
  {
   "cell_type": "markdown",
   "metadata": {},
   "source": [
    "# Testing dataset creation"
   ]
  },
  {
   "cell_type": "code",
   "execution_count": 111,
   "metadata": {},
   "outputs": [],
   "source": [
    "import logging\n",
    "# from PIL import Image\n",
    "from glob import glob\n",
    "import numpy as np\n",
    "import torch\n",
    "from torch.utils.data import Dataset\n",
    "import torchvision.transforms.functional as TF\n",
    "from torchvision import transforms\n",
    "import random\n",
    "import os\n",
    "from pathlib import Path\n",
    "import xarray as xr\n",
    "import rioxarray as rioxr\n",
    "\n",
    "class DisasterDataset(Dataset):\n",
    "    def __init__(self, data_dir, img_suffix_list, transform:bool, normalize:bool):\n",
    "        \n",
    "        self.data_dir = data_dir\n",
    "        self.transform = transform\n",
    "        self.normalize = normalize\n",
    "        self.img_suffix_list = img_suffix_list\n",
    "    \n",
    "    def __process_image__(self, img):\n",
    "\n",
    "        img_mean = img.mean(dim=[\"x\", \"y\"]).values.tolist()\n",
    "        img_std = img.std(dim=[\"x\", \"y\"]).values.tolist()\n",
    "\n",
    "        if self.normalize:\n",
    "            norm_func = transforms.Compose([\n",
    "                transforms.ToTensor(),\n",
    "                transforms.Normalize(mean=img_mean, std=img_std)\n",
    "            ])\n",
    "        else:\n",
    "            norm_func = transforms.ToTensor()\n",
    "\n",
    "        img_arr = np.transpose(np.array(img), (1, 2, 0)).astype(dtype='float64')\n",
    "        img_norm = norm_func(img_arr)\n",
    "\n",
    "        return img_norm\n",
    "    \n",
    "    def __getitem__(self, i):\n",
    "        \n",
    "        img_dir = Path(self.data_dir).joinpath(\"images\")\n",
    "\n",
    "        img_suffix = self.img_suffix_list[i]\n",
    "\n",
    "        pre_img = xr.open_rasterio(img_dir.joinpath(f\"{img_suffix}_pre_disaster.tif\")) / 255.0\n",
    "        post_img = xr.open_rasterio(img_dir.joinpath(f\"{img_suffix}_post_disaster.tif\")) / 255.0\n",
    "\n",
    "        pre_img = self.__process_image__(pre_img)\n",
    "        post_img = self.__process_image__(post_img)\n",
    "\n",
    "        return {'pre_image': pre_img, 'post_image': post_img}"
   ]
  },
  {
   "cell_type": "code",
   "execution_count": null,
   "metadata": {},
   "outputs": [],
   "source": []
  }
 ],
 "metadata": {
  "kernelspec": {
   "display_name": "ms-building-damage",
   "language": "python",
   "name": "python3"
  },
  "language_info": {
   "codemirror_mode": {
    "name": "ipython",
    "version": 3
   },
   "file_extension": ".py",
   "mimetype": "text/x-python",
   "name": "python",
   "nbconvert_exporter": "python",
   "pygments_lexer": "ipython3",
   "version": "3.7.12"
  }
 },
 "nbformat": 4,
 "nbformat_minor": 2
}
